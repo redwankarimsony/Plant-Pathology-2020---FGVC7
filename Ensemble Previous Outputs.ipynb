{
 "cells": [
  {
   "cell_type": "markdown",
   "execution_count": null,
   "metadata": {},
   "source": [
    "## The submission files of this notebook is from [This notebook](https://www.kaggle.com/gc1023/ensemble-top-kernels) which has LB score of 98.1. \n",
    "\n",
    "## I tried to play with entropy. My idea was to select the probability values from based on their entropy. I tried with maximum and minimum entropy values. I got the same public score of 98.1 by selecting probability distribution with minimum entropy. What do you think of this?  \n",
    "\n",
    "## Since I am new to kaggle, your valuable opinion will be highly appreciated. \n",
    "\n"
   ]
  },
  {
   "cell_type": "code",
   "execution_count": 1,
   "metadata": {
    "_cell_guid": "b1076dfc-b9ad-4769-8c92-a6c4dae69d19",
    "_uuid": "8f2839f25d086af736a60e9eeb907d3b93b6e0e5"
   },
   "outputs": [],
   "source": [
    "import numpy as np \n",
    "import pandas as pd \n",
    "import os\n",
    "from scipy.stats import entropy"
   ]
  },
  {
   "cell_type": "markdown",
   "execution_count": null,
   "metadata": {},
   "source": [
    "# Data Loading"
   ]
  },
  {
   "cell_type": "code",
   "execution_count": 2,
   "metadata": {},
   "outputs": [],
   "source": [
    "sub1 = pd.read_csv('../input/average-efficientnet/submission.csv')\n",
    "sub2 = pd.read_csv('../input/classification-densenet201-efficientnetb7/submission.csv')\n",
    "sub3 = pd.read_csv('../input/tf-zoo-models-on-tpu/submission.csv')\n",
    "sub4 = pd.read_csv('../input/fork-of-plant-2020-tpu-915e9c/submission.csv')\n",
    "sub = pd.read_csv('../input/plant-pathology-2020-fgvc7/sample_submission.csv')"
   ]
  },
  {
   "cell_type": "markdown",
   "execution_count": null,
   "metadata": {},
   "source": [
    "# Calculate Entropies"
   ]
  },
  {
   "cell_type": "code",
   "execution_count": 3,
   "metadata": {},
   "outputs": [],
   "source": [
    "ent1 = entropy(sub1.loc[:,'healthy' : ], base=2, axis = 1)\n",
    "ent2 = entropy(sub2.loc[:,'healthy' : ], base=2, axis = 1)\n",
    "ent3 = entropy(sub3.loc[:,'healthy' : ], base=2, axis = 1)\n",
    "ent4 = entropy(sub4.loc[:,'healthy' : ], base=2, axis = 1)\n",
    "entropies = np.array([ent1, ent2, ent3, ent4]).transpose()\n",
    "entropies.shape\n",
    "\n",
    "selected = np.argmin(entropies, axis = 1)"
   ]
  },
  {
   "cell_type": "code",
   "execution_count": 4,
   "metadata": {},
   "outputs": [],
   "source": [
    "# pred1 = np.argmax(np.array(sub1.loc[:,'healthy' : ]), axis = 1)\n",
    "# pred2 = np.argmax(np.array(sub2.loc[:,'healthy' : ]), axis = 1)\n",
    "# pred3 = np.argmax(np.array(sub3.loc[:,'healthy' : ]), axis = 1)\n",
    "# pred4 = np.argmax(np.array(sub4.loc[:,'healthy' : ]), axis = 1)\n",
    "# preds = np.array([pred1, pred2, pred3, pred4], dtype=np.int32).transpose()"
   ]
  },
  {
   "cell_type": "code",
   "execution_count": 5,
   "metadata": {},
   "outputs": [],
   "source": [
    "# for i in range(1821):\n",
    "#     if len(set(preds[1]))>1:\n",
    "#         selected = selected_argmax[i]\n",
    "#         if selected ==0:\n",
    "#             sub.loc[i, 'healthy' : ] = sub1.loc[i, 'healthy' :]\n",
    "#         elif selected ==1:\n",
    "#             sub.loc[i, 'healthy' : ] = sub2.loc[i, 'healthy' :]\n",
    "#         elif selected == 2:\n",
    "#             sub.loc[i, 'healthy' : ] = sub3.loc[i, 'healthy' :]\n",
    "#         elif selected == 3:\n",
    "#             sub.loc[i, 'healthy' : ] = sub4.loc[i, 'healthy' :]\n",
    "    \n",
    "#     else:\n",
    "#         selected = selected_argmin[i]\n",
    "#         if selected ==0:\n",
    "#             sub.loc[i, 'healthy' : ] = sub1.loc[i, 'healthy' :]\n",
    "#         elif selected ==1:\n",
    "#             sub.loc[i, 'healthy' : ] = sub2.loc[i, 'healthy' :]\n",
    "#         elif selected == 2:\n",
    "#             sub.loc[i, 'healthy' : ] = sub3.loc[i, 'healthy' :]\n",
    "#         elif selected == 3:\n",
    "#             sub.loc[i, 'healthy' : ] = sub4.loc[i, 'healthy' :]\n",
    "        \n",
    "        \n",
    "        \n"
   ]
  },
  {
   "cell_type": "code",
   "execution_count": 6,
   "metadata": {},
   "outputs": [],
   "source": [
    "# sub.healthy = ( sub1.healthy + sub2.healthy + sub3.healthy + sub4.healthy)/4\n",
    "# sub.multiple_diseases = (sub1.multiple_diseases + sub2.multiple_diseases + sub3.multiple_diseases + sub4.multiple_diseases)/4\n",
    "# sub.rust = (sub1.rust + sub2.rust + sub3.rust + sub4.rust)/4\n",
    "# sub.scab = (sub1.scab + sub2.scab + sub3.scab + sub4.scab)/4"
   ]
  },
  {
   "cell_type": "code",
   "execution_count": 7,
   "metadata": {},
   "outputs": [],
   "source": [
    "submission_size = len(selected)\n",
    "for i in range(submission_size):\n",
    "    if selected[i] ==0:\n",
    "        sub.loc[i, 'healthy' : ] = sub1.loc[i, 'healthy' :]\n",
    "    elif selected[i] ==1:\n",
    "        sub.loc[i, 'healthy' : ] = sub2.loc[i, 'healthy' :]\n",
    "    elif selected[i] == 2:\n",
    "        sub.loc[i, 'healthy' : ] = sub3.loc[i, 'healthy' :]\n",
    "    elif selected[i] == 3:\n",
    "        sub.loc[i, 'healthy' : ] = sub4.loc[i, 'healthy' :]"
   ]
  },
  {
   "cell_type": "code",
   "execution_count": 8,
   "metadata": {},
   "outputs": [],
   "source": [
    "sub.to_csv('submission.csv', index=False)"
   ]
  },
  {
   "cell_type": "code",
   "execution_count": null,
   "metadata": {},
   "outputs": [],
   "source": []
  }
 ],
 "metadata": {
  "kernelspec": {
   "display_name": "Python 3",
   "language": "python",
   "name": "python3"
  },
  "language_info": {
   "codemirror_mode": {
    "name": "ipython",
    "version": 3
   },
   "file_extension": ".py",
   "mimetype": "text/x-python",
   "name": "python",
   "nbconvert_exporter": "python",
   "pygments_lexer": "ipython3",
   "version": "3.6.6"
  }
 },
 "nbformat": 4,
 "nbformat_minor": 4
}
