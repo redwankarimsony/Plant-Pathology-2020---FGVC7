{
 "cells": [
  {
   "cell_type": "code",
   "execution_count": 1,
   "metadata": {
    "_cell_guid": "b1076dfc-b9ad-4769-8c92-a6c4dae69d19",
    "_uuid": "8f2839f25d086af736a60e9eeb907d3b93b6e0e5"
   },
   "outputs": [],
   "source": [
    "import pandas as pd"
   ]
  },
  {
   "cell_type": "code",
   "execution_count": 2,
   "metadata": {},
   "outputs": [],
   "source": [
    "sub1 = pd.read_csv(\n",
    "'../input\\\n",
    "/classification-densenet201-efficientnetb7\\\n",
    "/submission.csv'\n",
    ")\n",
    "\n",
    "sub2 = pd.read_csv(\n",
    "'../input\\\n",
    "/tf-zoo-models-on-tpu\\\n",
    "/submission.csv'\n",
    ")\n",
    "\n",
    "sub3 = pd.read_csv(\n",
    "'../input\\\n",
    "/fork-of-plant-2020-tpu-915e9c\\\n",
    "/submission.csv'\n",
    ")\n",
    "\n",
    "sub4 = pd.read_csv('../input/previous-sub/submission.csv')\n"
   ]
  },
  {
   "cell_type": "code",
   "execution_count": 3,
   "metadata": {},
   "outputs": [],
   "source": [
    "sub = pd.read_csv(\n",
    "'../input\\\n",
    "/plant-pathology-2020-fgvc7\\\n",
    "/sample_submission.csv'\n",
    ")"
   ]
  },
  {
   "cell_type": "code",
   "execution_count": 4,
   "metadata": {},
   "outputs": [],
   "source": [
    "sub.healthy = sub1.healthy*0.10 \\\n",
    "            + sub2.healthy*0.30 \\\n",
    "            + sub3.healthy*0.60"
   ]
  },
  {
   "cell_type": "code",
   "execution_count": 5,
   "metadata": {},
   "outputs": [],
   "source": [
    "sub.multiple_diseases = sub1.multiple_diseases * 0.10 \\\n",
    "                      + sub2.multiple_diseases * 0.30 \\\n",
    "                      + sub3.multiple_diseases * 0.60"
   ]
  },
  {
   "cell_type": "code",
   "execution_count": 6,
   "metadata": {},
   "outputs": [],
   "source": [
    "sub.rust = sub1.rust*0.10 \\\n",
    "         + sub2.rust*0.30 \\\n",
    "         + sub3.rust*0.60"
   ]
  },
  {
   "cell_type": "code",
   "execution_count": 7,
   "metadata": {},
   "outputs": [],
   "source": [
    "sub.scab = sub1.scab*0.10 \\\n",
    "         + sub2.scab*0.30 \\\n",
    "         + sub3.scab*0.60"
   ]
  },
  {
   "cell_type": "code",
   "execution_count": 8,
   "metadata": {},
   "outputs": [
    {
     "data": {
      "text/html": [
       "<div>\n",
       "<style scoped>\n",
       "    .dataframe tbody tr th:only-of-type {\n",
       "        vertical-align: middle;\n",
       "    }\n",
       "\n",
       "    .dataframe tbody tr th {\n",
       "        vertical-align: top;\n",
       "    }\n",
       "\n",
       "    .dataframe thead th {\n",
       "        text-align: right;\n",
       "    }\n",
       "</style>\n",
       "<table border=\"1\" class=\"dataframe\">\n",
       "  <thead>\n",
       "    <tr style=\"text-align: right;\">\n",
       "      <th></th>\n",
       "      <th>image_id</th>\n",
       "      <th>healthy</th>\n",
       "      <th>multiple_diseases</th>\n",
       "      <th>rust</th>\n",
       "      <th>scab</th>\n",
       "    </tr>\n",
       "  </thead>\n",
       "  <tbody>\n",
       "    <tr>\n",
       "      <th>0</th>\n",
       "      <td>Test_0</td>\n",
       "      <td>1.402747e-06</td>\n",
       "      <td>0.000546</td>\n",
       "      <td>0.999451</td>\n",
       "      <td>0.000002</td>\n",
       "    </tr>\n",
       "    <tr>\n",
       "      <th>1</th>\n",
       "      <td>Test_1</td>\n",
       "      <td>7.814344e-06</td>\n",
       "      <td>0.000476</td>\n",
       "      <td>0.999512</td>\n",
       "      <td>0.000004</td>\n",
       "    </tr>\n",
       "    <tr>\n",
       "      <th>2</th>\n",
       "      <td>Test_2</td>\n",
       "      <td>4.344140e-07</td>\n",
       "      <td>0.000006</td>\n",
       "      <td>0.000001</td>\n",
       "      <td>0.999992</td>\n",
       "    </tr>\n",
       "    <tr>\n",
       "      <th>3</th>\n",
       "      <td>Test_3</td>\n",
       "      <td>9.999563e-01</td>\n",
       "      <td>0.000001</td>\n",
       "      <td>0.000029</td>\n",
       "      <td>0.000014</td>\n",
       "    </tr>\n",
       "    <tr>\n",
       "      <th>4</th>\n",
       "      <td>Test_4</td>\n",
       "      <td>6.072313e-05</td>\n",
       "      <td>0.000595</td>\n",
       "      <td>0.999335</td>\n",
       "      <td>0.000008</td>\n",
       "    </tr>\n",
       "  </tbody>\n",
       "</table>\n",
       "</div>"
      ],
      "text/plain": [
       "  image_id       healthy  multiple_diseases      rust      scab\n",
       "0   Test_0  1.402747e-06           0.000546  0.999451  0.000002\n",
       "1   Test_1  7.814344e-06           0.000476  0.999512  0.000004\n",
       "2   Test_2  4.344140e-07           0.000006  0.000001  0.999992\n",
       "3   Test_3  9.999563e-01           0.000001  0.000029  0.000014\n",
       "4   Test_4  6.072313e-05           0.000595  0.999335  0.000008"
      ]
     },
     "execution_count": 8,
     "metadata": {},
     "output_type": "execute_result"
    }
   ],
   "source": [
    "sub.head()"
   ]
  },
  {
   "cell_type": "code",
   "execution_count": 9,
   "metadata": {},
   "outputs": [],
   "source": [
    "sub.to_csv('submission.csv', index=False)"
   ]
  },
  {
   "cell_type": "code",
   "execution_count": null,
   "metadata": {},
   "outputs": [],
   "source": []
  }
 ],
 "metadata": {
  "kernelspec": {
   "display_name": "Python 3",
   "language": "python",
   "name": "python3"
  },
  "language_info": {
   "codemirror_mode": {
    "name": "ipython",
    "version": 3
   },
   "file_extension": ".py",
   "mimetype": "text/x-python",
   "name": "python",
   "nbconvert_exporter": "python",
   "pygments_lexer": "ipython3",
   "version": "3.8.3"
  }
 },
 "nbformat": 4,
 "nbformat_minor": 4
}
